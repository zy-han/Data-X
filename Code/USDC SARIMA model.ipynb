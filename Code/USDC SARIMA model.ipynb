{
 "cells": [
  {
   "cell_type": "code",
   "execution_count": 1,
   "metadata": {},
   "outputs": [],
   "source": [
    "import pandas as pd\n",
    "from datetime import datetime"
   ]
  },
  {
   "cell_type": "code",
   "execution_count": 2,
   "metadata": {},
   "outputs": [
    {
     "data": {
      "text/html": [
       "<div>\n",
       "<style scoped>\n",
       "    .dataframe tbody tr th:only-of-type {\n",
       "        vertical-align: middle;\n",
       "    }\n",
       "\n",
       "    .dataframe tbody tr th {\n",
       "        vertical-align: top;\n",
       "    }\n",
       "\n",
       "    .dataframe thead th {\n",
       "        text-align: right;\n",
       "    }\n",
       "</style>\n",
       "<table border=\"1\" class=\"dataframe\">\n",
       "  <thead>\n",
       "    <tr style=\"text-align: right;\">\n",
       "      <th></th>\n",
       "      <th>Date</th>\n",
       "      <th>USDC Price</th>\n",
       "    </tr>\n",
       "  </thead>\n",
       "  <tbody>\n",
       "    <tr>\n",
       "      <td>0</td>\n",
       "      <td>2018-10-08</td>\n",
       "      <td>1.002210</td>\n",
       "    </tr>\n",
       "    <tr>\n",
       "      <td>1</td>\n",
       "      <td>2018-10-09</td>\n",
       "      <td>1.006860</td>\n",
       "    </tr>\n",
       "    <tr>\n",
       "      <td>2</td>\n",
       "      <td>2018-10-10</td>\n",
       "      <td>1.009620</td>\n",
       "    </tr>\n",
       "    <tr>\n",
       "      <td>3</td>\n",
       "      <td>2018-10-11</td>\n",
       "      <td>1.009780</td>\n",
       "    </tr>\n",
       "    <tr>\n",
       "      <td>4</td>\n",
       "      <td>2018-10-12</td>\n",
       "      <td>1.012720</td>\n",
       "    </tr>\n",
       "    <tr>\n",
       "      <td>...</td>\n",
       "      <td>...</td>\n",
       "      <td>...</td>\n",
       "    </tr>\n",
       "    <tr>\n",
       "      <td>919</td>\n",
       "      <td>2021-04-14</td>\n",
       "      <td>0.999534</td>\n",
       "    </tr>\n",
       "    <tr>\n",
       "      <td>920</td>\n",
       "      <td>2021-04-15</td>\n",
       "      <td>0.999178</td>\n",
       "    </tr>\n",
       "    <tr>\n",
       "      <td>921</td>\n",
       "      <td>2021-04-16</td>\n",
       "      <td>0.999518</td>\n",
       "    </tr>\n",
       "    <tr>\n",
       "      <td>922</td>\n",
       "      <td>2021-04-17</td>\n",
       "      <td>0.999383</td>\n",
       "    </tr>\n",
       "    <tr>\n",
       "      <td>923</td>\n",
       "      <td>2021-04-18</td>\n",
       "      <td>0.998674</td>\n",
       "    </tr>\n",
       "  </tbody>\n",
       "</table>\n",
       "<p>924 rows × 2 columns</p>\n",
       "</div>"
      ],
      "text/plain": [
       "           Date  USDC Price\n",
       "0    2018-10-08    1.002210\n",
       "1    2018-10-09    1.006860\n",
       "2    2018-10-10    1.009620\n",
       "3    2018-10-11    1.009780\n",
       "4    2018-10-12    1.012720\n",
       "..          ...         ...\n",
       "919  2021-04-14    0.999534\n",
       "920  2021-04-15    0.999178\n",
       "921  2021-04-16    0.999518\n",
       "922  2021-04-17    0.999383\n",
       "923  2021-04-18    0.998674\n",
       "\n",
       "[924 rows x 2 columns]"
      ]
     },
     "execution_count": 2,
     "metadata": {},
     "output_type": "execute_result"
    }
   ],
   "source": [
    "# View the dataset format\n",
    "df = pd.read_csv('USDC Price.csv')\n",
    "df"
   ]
  },
  {
   "cell_type": "code",
   "execution_count": 3,
   "metadata": {},
   "outputs": [
    {
     "data": {
      "text/html": [
       "<div>\n",
       "<style scoped>\n",
       "    .dataframe tbody tr th:only-of-type {\n",
       "        vertical-align: middle;\n",
       "    }\n",
       "\n",
       "    .dataframe tbody tr th {\n",
       "        vertical-align: top;\n",
       "    }\n",
       "\n",
       "    .dataframe thead th {\n",
       "        text-align: right;\n",
       "    }\n",
       "</style>\n",
       "<table border=\"1\" class=\"dataframe\">\n",
       "  <thead>\n",
       "    <tr style=\"text-align: right;\">\n",
       "      <th></th>\n",
       "      <th>USDC Price</th>\n",
       "    </tr>\n",
       "    <tr>\n",
       "      <th>Date</th>\n",
       "      <th></th>\n",
       "    </tr>\n",
       "  </thead>\n",
       "  <tbody>\n",
       "    <tr>\n",
       "      <td>2018-10-08</td>\n",
       "      <td>1.002210</td>\n",
       "    </tr>\n",
       "    <tr>\n",
       "      <td>2018-10-09</td>\n",
       "      <td>1.006860</td>\n",
       "    </tr>\n",
       "    <tr>\n",
       "      <td>2018-10-10</td>\n",
       "      <td>1.009620</td>\n",
       "    </tr>\n",
       "    <tr>\n",
       "      <td>2018-10-11</td>\n",
       "      <td>1.009780</td>\n",
       "    </tr>\n",
       "    <tr>\n",
       "      <td>2018-10-12</td>\n",
       "      <td>1.012720</td>\n",
       "    </tr>\n",
       "    <tr>\n",
       "      <td>...</td>\n",
       "      <td>...</td>\n",
       "    </tr>\n",
       "    <tr>\n",
       "      <td>2021-04-14</td>\n",
       "      <td>0.999534</td>\n",
       "    </tr>\n",
       "    <tr>\n",
       "      <td>2021-04-15</td>\n",
       "      <td>0.999178</td>\n",
       "    </tr>\n",
       "    <tr>\n",
       "      <td>2021-04-16</td>\n",
       "      <td>0.999518</td>\n",
       "    </tr>\n",
       "    <tr>\n",
       "      <td>2021-04-17</td>\n",
       "      <td>0.999383</td>\n",
       "    </tr>\n",
       "    <tr>\n",
       "      <td>2021-04-18</td>\n",
       "      <td>0.998674</td>\n",
       "    </tr>\n",
       "  </tbody>\n",
       "</table>\n",
       "<p>924 rows × 1 columns</p>\n",
       "</div>"
      ],
      "text/plain": [
       "            USDC Price\n",
       "Date                  \n",
       "2018-10-08    1.002210\n",
       "2018-10-09    1.006860\n",
       "2018-10-10    1.009620\n",
       "2018-10-11    1.009780\n",
       "2018-10-12    1.012720\n",
       "...                ...\n",
       "2021-04-14    0.999534\n",
       "2021-04-15    0.999178\n",
       "2021-04-16    0.999518\n",
       "2021-04-17    0.999383\n",
       "2021-04-18    0.998674\n",
       "\n",
       "[924 rows x 1 columns]"
      ]
     },
     "execution_count": 3,
     "metadata": {},
     "output_type": "execute_result"
    }
   ],
   "source": [
    "# Set Date as new index for later graph drawing and prevent too many date label in x-axis\n",
    "df1 = df.reset_index(drop = True).set_index('Date')\n",
    "df1 = df1.asfreq('D')\n",
    "df1"
   ]
  },
  {
   "cell_type": "code",
   "execution_count": 4,
   "metadata": {},
   "outputs": [],
   "source": [
    "import matplotlib.pyplot as plt\n",
    "import seaborn as sns\n",
    "import numpy as np\n",
    "import warnings\n",
    "warnings.filterwarnings('ignore')"
   ]
  },
  {
   "cell_type": "code",
   "execution_count": 5,
   "metadata": {},
   "outputs": [
    {
     "data": {
      "image/png": "[encoded data removed]",
      "text/plain": [
       "<Figure size 720x432 with 1 Axes>"
      ]
     },
     "metadata": {
      "needs_background": "light"
     },
     "output_type": "display_data"
    }
   ],
   "source": [
    "# Time Series Plot, historical 3yr data \n",
    "plt.rcParams['figure.figsize'] = (10,6)\n",
    "df1['USDC Price'] = df1['USDC Price'].astype('float64')\n",
    "plt.plot(df1['USDC Price'])\n",
    "plt.show()"
   ]
  },
  {
   "cell_type": "code",
   "execution_count": 6,
   "metadata": {},
   "outputs": [],
   "source": [
    "# Calculate Mean Absolute Percentage Error\n",
    "def get_mape(actuals, forecasts):\n",
    "    MAPE = np.sum(abs(forecasts-actuals)/actuals)/len(actuals)\n",
    "    return MAPE"
   ]
  },
  {
   "cell_type": "code",
   "execution_count": 8,
   "metadata": {},
   "outputs": [],
   "source": [
    "# Seperate data into training part and testing part\n",
    "train = df1[df1.index <= '2020-12-31']\n",
    "test = df1[df1.index >= '2021-01-01']"
   ]
  },
  {
   "cell_type": "code",
   "execution_count": 9,
   "metadata": {},
   "outputs": [],
   "source": [
    "# Change price type from string to float\n",
    "train['USDC Price'] = train['USDC Price'].astype('float64')\n",
    "test['USDC Price'] = test['USDC Price'].astype('float64')"
   ]
  },
  {
   "cell_type": "code",
   "execution_count": 10,
   "metadata": {},
   "outputs": [],
   "source": [
    "import time"
   ]
  },
  {
   "cell_type": "code",
   "execution_count": 89,
   "metadata": {},
   "outputs": [
    {
     "name": "stdout",
     "output_type": "stream",
     "text": [
      "1.0880756378173828\n",
      "0.03298020362854004\n"
     ]
    },
    {
     "data": {
      "image/png": "[encoded data removed]",
      "text/plain": [
       "<Figure size 720x432 with 1 Axes>"
      ]
     },
     "metadata": {
      "needs_background": "light"
     },
     "output_type": "display_data"
    }
   ],
   "source": [
    "from statsmodels.tsa.statespace.sarimax import SARIMAX\n",
    "\n",
    "# Define model and tune parameter\n",
    "model_sarimax = SARIMAX(train['USDC Price'], order=(0,1,1), seasonal_order=(1,1,1,12))\n",
    "\n",
    "# Fit model and calculate running time\n",
    "start = time.time()\n",
    "model_sarimax_fit = model_sarimax.fit()\n",
    "end = time.time()\n",
    "print(end - start)\n",
    "\n",
    "# Create forecasts\n",
    "start1 = time.time()\n",
    "sarima_pred = model_sarimax_fit.forecast(108)\n",
    "end1 = time.time()\n",
    "print(end1 - start1)\n",
    "\n",
    "# Plot forecast, test set, and training set\n",
    "plt.plot(sarima_pred, c = 'r')\n",
    "plt.plot(df1['USDC Price'], c = 'b',alpha = 0.6)\n",
    "plt.ylim([0.9, 1.1])\n",
    "\n",
    "plt.xlabel(\"Date\")\n",
    "plt.ylabel(\"USDC Price\")\n",
    "\n",
    "plt.grid()"
   ]
  },
  {
   "cell_type": "code",
   "execution_count": 90,
   "metadata": {},
   "outputs": [
    {
     "name": "stdout",
     "output_type": "stream",
     "text": [
      "USDC SARIMA MAPE:  0.000998695833506844\n"
     ]
    }
   ],
   "source": [
    "# Calculate SARIMA MAPE value\n",
    "sarima_mape = get_mape(test['USDC Price'], sarima_pred)\n",
    "\n",
    "print('USDC SARIMA MAPE: ', sarima_mape)\n"
   ]
  },
  {
   "cell_type": "code",
   "execution_count": 78,
   "metadata": {},
   "outputs": [
    {
     "data": {
      "text/html": [
       "<table class=\"simpletable\">\n",
       "<caption>Statespace Model Results</caption>\n",
       "<tr>\n",
       "  <th>Dep. Variable:</th>             <td>USDC Price</td>           <th>  No. Observations:  </th>    <td>816</td>   \n",
       "</tr>\n",
       "<tr>\n",
       "  <th>Model:</th>           <td>SARIMAX(0, 1, 1)x(1, 0, 0, 12)</td> <th>  Log Likelihood     </th> <td>3237.319</td> \n",
       "</tr>\n",
       "<tr>\n",
       "  <th>Date:</th>                   <td>Fri, 30 Apr 2021</td>        <th>  AIC                </th> <td>-6468.638</td>\n",
       "</tr>\n",
       "<tr>\n",
       "  <th>Time:</th>                       <td>15:52:45</td>            <th>  BIC                </th> <td>-6454.528</td>\n",
       "</tr>\n",
       "<tr>\n",
       "  <th>Sample:</th>                    <td>10-08-2018</td>           <th>  HQIC               </th> <td>-6463.222</td>\n",
       "</tr>\n",
       "<tr>\n",
       "  <th></th>                          <td>- 12-31-2020</td>          <th>                     </th>     <td> </td>    \n",
       "</tr>\n",
       "<tr>\n",
       "  <th>Covariance Type:</th>               <td>opg</td>              <th>                     </th>     <td> </td>    \n",
       "</tr>\n",
       "</table>\n",
       "<table class=\"simpletable\">\n",
       "<tr>\n",
       "      <td></td>        <th>coef</th>     <th>std err</th>      <th>z</th>      <th>P>|z|</th>  <th>[0.025</th>    <th>0.975]</th>  \n",
       "</tr>\n",
       "<tr>\n",
       "  <th>ma.L1</th>    <td>   -0.5199</td> <td>    0.013</td> <td>  -38.695</td> <td> 0.000</td> <td>   -0.546</td> <td>   -0.494</td>\n",
       "</tr>\n",
       "<tr>\n",
       "  <th>ar.S.L12</th> <td>    0.0994</td> <td>    0.023</td> <td>    4.348</td> <td> 0.000</td> <td>    0.055</td> <td>    0.144</td>\n",
       "</tr>\n",
       "<tr>\n",
       "  <th>sigma2</th>   <td> 2.075e-05</td> <td> 3.83e-07</td> <td>   54.237</td> <td> 0.000</td> <td>    2e-05</td> <td> 2.15e-05</td>\n",
       "</tr>\n",
       "</table>\n",
       "<table class=\"simpletable\">\n",
       "<tr>\n",
       "  <th>Ljung-Box (Q):</th>          <td>78.49</td> <th>  Jarque-Bera (JB):  </th> <td>6125.25</td>\n",
       "</tr>\n",
       "<tr>\n",
       "  <th>Prob(Q):</th>                <td>0.00</td>  <th>  Prob(JB):          </th>  <td>0.00</td>  \n",
       "</tr>\n",
       "<tr>\n",
       "  <th>Heteroskedasticity (H):</th> <td>0.30</td>  <th>  Skew:              </th>  <td>0.68</td>  \n",
       "</tr>\n",
       "<tr>\n",
       "  <th>Prob(H) (two-sided):</th>    <td>0.00</td>  <th>  Kurtosis:          </th>  <td>16.36</td> \n",
       "</tr>\n",
       "</table><br/><br/>Warnings:<br/>[1] Covariance matrix calculated using the outer product of gradients (complex-step)."
      ],
      "text/plain": [
       "<class 'statsmodels.iolib.summary.Summary'>\n",
       "\"\"\"\n",
       "                                 Statespace Model Results                                 \n",
       "==========================================================================================\n",
       "Dep. Variable:                         USDC Price   No. Observations:                  816\n",
       "Model:             SARIMAX(0, 1, 1)x(1, 0, 0, 12)   Log Likelihood                3237.319\n",
       "Date:                            Fri, 30 Apr 2021   AIC                          -6468.638\n",
       "Time:                                    15:52:45   BIC                          -6454.528\n",
       "Sample:                                10-08-2018   HQIC                         -6463.222\n",
       "                                     - 12-31-2020                                         \n",
       "Covariance Type:                              opg                                         \n",
       "==============================================================================\n",
       "                 coef    std err          z      P>|z|      [0.025      0.975]\n",
       "------------------------------------------------------------------------------\n",
       "ma.L1         -0.5199      0.013    -38.695      0.000      -0.546      -0.494\n",
       "ar.S.L12       0.0994      0.023      4.348      0.000       0.055       0.144\n",
       "sigma2      2.075e-05   3.83e-07     54.237      0.000       2e-05    2.15e-05\n",
       "===================================================================================\n",
       "Ljung-Box (Q):                       78.49   Jarque-Bera (JB):              6125.25\n",
       "Prob(Q):                              0.00   Prob(JB):                         0.00\n",
       "Heteroskedasticity (H):               0.30   Skew:                             0.68\n",
       "Prob(H) (two-sided):                  0.00   Kurtosis:                        16.36\n",
       "===================================================================================\n",
       "\n",
       "Warnings:\n",
       "[1] Covariance matrix calculated using the outer product of gradients (complex-step).\n",
       "\"\"\""
      ]
     },
     "execution_count": 78,
     "metadata": {},
     "output_type": "execute_result"
    }
   ],
   "source": [
    "# View summary especially AIC value, but not rely on this\n",
    "model_sarimax_fit.summary()"
   ]
  },
  {
   "cell_type": "code",
   "execution_count": null,
   "metadata": {},
   "outputs": [],
   "source": []
  }
 ],
 "metadata": {
  "kernelspec": {
   "display_name": "Python 3",
   "language": "python",
   "name": "python3"
  },
  "language_info": {
   "codemirror_mode": {
    "name": "ipython",
    "version": 3
   },
   "file_extension": ".py",
   "mimetype": "text/x-python",
   "name": "python",
   "nbconvert_exporter": "python",
   "pygments_lexer": "ipython3",
   "version": "3.7.3"
  }
 },
 "nbformat": 4,
 "nbformat_minor": 2
}
