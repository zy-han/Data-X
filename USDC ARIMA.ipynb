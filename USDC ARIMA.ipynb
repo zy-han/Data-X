{
 "cells": [
  {
   "cell_type": "code",
   "execution_count": 1,
   "metadata": {},
   "outputs": [],
   "source": [
    "import time\n",
    "import pandas as pd\n",
    "import matplotlib.pyplot as plt\n",
    "import seaborn as sns\n",
    "import numpy as np\n",
    "from sklearn.metrics import mean_squared_error\n",
    "from pandas import Series\n",
    "from statsmodels.tsa.arima_model import ARIMA\n",
    "import warnings\n",
    "warnings.filterwarnings('ignore')"
   ]
  },
  {
   "cell_type": "markdown",
   "metadata": {},
   "source": [
    "## Load Data"
   ]
  },
  {
   "cell_type": "code",
   "execution_count": 2,
   "metadata": {},
   "outputs": [],
   "source": [
    "USDC=pd.read_csv('USDC Price.csv')\n",
    "USDC['Date'] = pd.to_datetime(USDC['Date'])"
   ]
  },
  {
   "cell_type": "code",
   "execution_count": 3,
   "metadata": {},
   "outputs": [],
   "source": [
    "USDC_train = USDC[USDC.Date <= '2020-12-31']\n",
    "USDC_test =  USDC[USDC.Date >= '2021-01-01']"
   ]
  },
  {
   "cell_type": "code",
   "execution_count": 4,
   "metadata": {},
   "outputs": [
    {
     "data": {
      "text/html": [
       "<div>\n",
       "<style scoped>\n",
       "    .dataframe tbody tr th:only-of-type {\n",
       "        vertical-align: middle;\n",
       "    }\n",
       "\n",
       "    .dataframe tbody tr th {\n",
       "        vertical-align: top;\n",
       "    }\n",
       "\n",
       "    .dataframe thead th {\n",
       "        text-align: right;\n",
       "    }\n",
       "</style>\n",
       "<table border=\"1\" class=\"dataframe\">\n",
       "  <thead>\n",
       "    <tr style=\"text-align: right;\">\n",
       "      <th></th>\n",
       "      <th>Date</th>\n",
       "      <th>USDC Price</th>\n",
       "    </tr>\n",
       "  </thead>\n",
       "  <tbody>\n",
       "    <tr>\n",
       "      <th>0</th>\n",
       "      <td>2018-10-08</td>\n",
       "      <td>1.002210</td>\n",
       "    </tr>\n",
       "    <tr>\n",
       "      <th>1</th>\n",
       "      <td>2018-10-09</td>\n",
       "      <td>1.006860</td>\n",
       "    </tr>\n",
       "    <tr>\n",
       "      <th>2</th>\n",
       "      <td>2018-10-10</td>\n",
       "      <td>1.009620</td>\n",
       "    </tr>\n",
       "    <tr>\n",
       "      <th>3</th>\n",
       "      <td>2018-10-11</td>\n",
       "      <td>1.009780</td>\n",
       "    </tr>\n",
       "    <tr>\n",
       "      <th>4</th>\n",
       "      <td>2018-10-12</td>\n",
       "      <td>1.012720</td>\n",
       "    </tr>\n",
       "    <tr>\n",
       "      <th>...</th>\n",
       "      <td>...</td>\n",
       "      <td>...</td>\n",
       "    </tr>\n",
       "    <tr>\n",
       "      <th>919</th>\n",
       "      <td>2021-04-14</td>\n",
       "      <td>0.999534</td>\n",
       "    </tr>\n",
       "    <tr>\n",
       "      <th>920</th>\n",
       "      <td>2021-04-15</td>\n",
       "      <td>0.999178</td>\n",
       "    </tr>\n",
       "    <tr>\n",
       "      <th>921</th>\n",
       "      <td>2021-04-16</td>\n",
       "      <td>0.999518</td>\n",
       "    </tr>\n",
       "    <tr>\n",
       "      <th>922</th>\n",
       "      <td>2021-04-17</td>\n",
       "      <td>0.999383</td>\n",
       "    </tr>\n",
       "    <tr>\n",
       "      <th>923</th>\n",
       "      <td>2021-04-18</td>\n",
       "      <td>0.998674</td>\n",
       "    </tr>\n",
       "  </tbody>\n",
       "</table>\n",
       "<p>924 rows × 2 columns</p>\n",
       "</div>"
      ],
      "text/plain": [
       "          Date  USDC Price\n",
       "0   2018-10-08    1.002210\n",
       "1   2018-10-09    1.006860\n",
       "2   2018-10-10    1.009620\n",
       "3   2018-10-11    1.009780\n",
       "4   2018-10-12    1.012720\n",
       "..         ...         ...\n",
       "919 2021-04-14    0.999534\n",
       "920 2021-04-15    0.999178\n",
       "921 2021-04-16    0.999518\n",
       "922 2021-04-17    0.999383\n",
       "923 2021-04-18    0.998674\n",
       "\n",
       "[924 rows x 2 columns]"
      ]
     },
     "execution_count": 4,
     "metadata": {},
     "output_type": "execute_result"
    }
   ],
   "source": [
    "USDC"
   ]
  },
  {
   "cell_type": "markdown",
   "metadata": {},
   "source": [
    "## Define Performance Criteria: Mean Absolutee Percentage Error"
   ]
  },
  {
   "cell_type": "code",
   "execution_count": 5,
   "metadata": {},
   "outputs": [],
   "source": [
    "def get_mape(actuals, forecasts):\n",
    "    MAPE = np.sum(abs(forecasts-actuals)/actuals)/len(actuals)\n",
    "    return MAPE"
   ]
  },
  {
   "cell_type": "markdown",
   "metadata": {},
   "source": [
    "## Hyperparameter Selection"
   ]
  },
  {
   "cell_type": "code",
   "execution_count": 6,
   "metadata": {},
   "outputs": [],
   "source": [
    "p_values = range(0, 5)\n",
    "d_values = range(0, 3)                   \n",
    "q_values = range(0, 3)                   "
   ]
  },
  {
   "cell_type": "code",
   "execution_count": 7,
   "metadata": {},
   "outputs": [],
   "source": [
    "def evaluate_model(train, test, p_values, d_values, q_values):\n",
    "    best_score, best_cfg = float(\"inf\"), None\n",
    "    for p in p_values:\n",
    "        for d in d_values: \n",
    "            for q in q_values:\n",
    "                order= (p,d,q)\n",
    "                try:\n",
    "                    model_arima = ARIMA(train, order=order)\n",
    "                    model_arima_fit = model_arima.fit()\n",
    "                    arima_pred = model_arima_fit.forecast(108)\n",
    "                    mape=get_mape(test, arima_pred[0])\n",
    "                    print(\"order: \", order, \"mape: \", mape)\n",
    "                    if mape < best_score:\n",
    "                        best_score, best_cfg = mape, order\n",
    "                except:\n",
    "                    continue\n",
    "    print('Best ARIMA and MAPE ',best_cfg, best_score)"
   ]
  },
  {
   "cell_type": "code",
   "execution_count": 8,
   "metadata": {},
   "outputs": [
    {
     "name": "stdout",
     "output_type": "stream",
     "text": [
      "order:  (0, 0, 0) mape:  0.0036424820816249315\n",
      "order:  (0, 0, 1) mape:  0.0036289918508292224\n",
      "order:  (0, 0, 2) mape:  0.003607453374838369\n",
      "order:  (0, 1, 0) mape:  0.0010944310191765326\n",
      "order:  (0, 1, 1) mape:  0.0012561244626308641\n",
      "order:  (0, 1, 2) mape:  0.001337501314335494\n",
      "order:  (0, 2, 0) mape:  0.005264650559187268\n",
      "order:  (0, 2, 1) mape:  0.0009364238228039881\n",
      "order:  (0, 2, 2) mape:  0.0016135718421981156\n",
      "order:  (1, 0, 0) mape:  0.0034612716106635693\n",
      "order:  (1, 0, 1) mape:  0.0027174061703600224\n",
      "order:  (1, 0, 2) mape:  0.002568220971649212\n",
      "order:  (1, 1, 0) mape:  0.0011743514975677892\n",
      "order:  (1, 1, 1) mape:  0.0013624519368015022\n",
      "order:  (1, 1, 2) mape:  0.0013184529668287908\n",
      "order:  (1, 2, 0) mape:  0.0371792377892805\n",
      "order:  (2, 0, 0) mape:  0.0032731157657648617\n",
      "order:  (2, 0, 1) mape:  0.002571384749176428\n",
      "order:  (2, 0, 2) mape:  0.002620753332664394\n",
      "order:  (2, 1, 0) mape:  0.0011067845870906786\n",
      "order:  (2, 1, 1) mape:  0.0013091118806105224\n",
      "order:  (2, 1, 2) mape:  0.0013048514418989483\n",
      "order:  (2, 2, 0) mape:  0.01784046761795059\n",
      "order:  (3, 0, 0) mape:  0.0030462474266974154\n",
      "order:  (3, 0, 1) mape:  0.0027621955388261936\n",
      "order:  (3, 0, 2) mape:  0.0027133226413419403\n",
      "order:  (3, 1, 0) mape:  0.0011253734382275374\n",
      "order:  (3, 1, 1) mape:  0.002366701102759449\n",
      "order:  (3, 2, 0) mape:  0.010049819727673045\n",
      "order:  (3, 2, 1) mape:  0.0008707216983311843\n",
      "order:  (3, 2, 2) mape:  0.0009367000906154453\n",
      "order:  (4, 0, 0) mape:  0.0029259519204825344\n",
      "order:  (4, 0, 1) mape:  0.001225146368817583\n",
      "order:  (4, 1, 0) mape:  0.0011358794918413344\n",
      "order:  (4, 1, 1) mape:  0.002770445862418467\n",
      "order:  (4, 1, 2) mape:  0.0024094408906882073\n",
      "order:  (4, 2, 0) mape:  0.0020139055550643914\n",
      "order:  (4, 2, 1) mape:  0.000904999785716512\n",
      "order:  (4, 2, 2) mape:  0.0009631358441289055\n",
      "Best ARIMA and MAPE  (3, 2, 1) 0.0008707216983311843\n"
     ]
    }
   ],
   "source": [
    "evaluate_model(USDC_train['USDC Price'], USDC_test['USDC Price'], p_values, d_values, q_values)"
   ]
  },
  {
   "cell_type": "markdown",
   "metadata": {},
   "source": [
    "## Finalizd Model with Best Parameters"
   ]
  },
  {
   "cell_type": "code",
   "execution_count": 9,
   "metadata": {},
   "outputs": [
    {
     "name": "stdout",
     "output_type": "stream",
     "text": [
      "time to fit model on training set:  0.6528751850128174\n",
      "time to create 2021 forecast:  0.0017871856689453125\n"
     ]
    }
   ],
   "source": [
    "# Define model\n",
    "model_arima = ARIMA(USDC_train['USDC Price'], order=(3,2,1))\n",
    "\n",
    "# Fit model\n",
    "start=time.time()\n",
    "model_arima_fit = model_arima.fit()\n",
    "end=time.time()\n",
    "print(\"time to fit model on training set: \", end-start)\n",
    "\n",
    "# Create forecasts\n",
    "begin=time.time()\n",
    "arima_pred = model_arima_fit.forecast(108)\n",
    "over=time.time()\n",
    "print(\"time to create 2021 forecast: \", over-begin)"
   ]
  },
  {
   "cell_type": "code",
   "execution_count": 10,
   "metadata": {},
   "outputs": [],
   "source": [
    "Price=np.concatenate([np.asarray(USDC_train['USDC Price']),arima_pred[0]])\n",
    "Date=USDC[\"Date\"]\n",
    "\n",
    "df=pd.DataFrame(Price).set_index(Date)\n",
    "df.columns=['Price']\n",
    "\n",
    "USDC_train = USDC_train.set_index('Date')\n",
    "USDC = USDC.set_index('Date')"
   ]
  },
  {
   "cell_type": "markdown",
   "metadata": {},
   "source": [
    "## Plot the Figure"
   ]
  },
  {
   "cell_type": "code",
   "execution_count": 11,
   "metadata": {},
   "outputs": [
    {
     "data": {
      "text/plain": [
       "Text(0.5, 1.0, 'Predicted USDC Price')"
      ]
     },
     "execution_count": 11,
     "metadata": {},
     "output_type": "execute_result"
    },
    {
     "data": {
      "image/png": "[encoded data removed]",
      "text/plain": [
       "<Figure size 1080x720 with 1 Axes>"
      ]
     },
     "metadata": {
      "needs_background": "light"
     },
     "output_type": "display_data"
    }
   ],
   "source": [
    "# Plot forecast, test set, and training set\n",
    "plt.figure(figsize=(15, 10))\n",
    "\n",
    "plt.plot(df['Price'], c = 'r')\n",
    "plt.plot(USDC['USDC Price'], c = 'b', alpha=0.5)\n",
    "plt.ylim([0.9, 1.1])\n",
    "\n",
    "plt.xticks(pd.date_range('2018-10','2021-7',freq='3m')) \n",
    "plt.xlabel(\"Date\")\n",
    "plt.ylabel(\"USDC Price\")\n",
    "plt.grid()\n",
    "plt.title(\"Predicted USDC Price\")"
   ]
  },
  {
   "cell_type": "code",
   "execution_count": 12,
   "metadata": {},
   "outputs": [
    {
     "data": {
      "text/html": [
       "<table class=\"simpletable\">\n",
       "<caption>ARIMA Model Results</caption>\n",
       "<tr>\n",
       "  <th>Dep. Variable:</th>   <td>D2.USDC Price</td>  <th>  No. Observations:  </th>    <td>814</td>   \n",
       "</tr>\n",
       "<tr>\n",
       "  <th>Model:</th>          <td>ARIMA(3, 2, 1)</td>  <th>  Log Likelihood     </th> <td>3223.793</td> \n",
       "</tr>\n",
       "<tr>\n",
       "  <th>Method:</th>             <td>css-mle</td>     <th>  S.D. of innovations</th>   <td>0.005</td>  \n",
       "</tr>\n",
       "<tr>\n",
       "  <th>Date:</th>          <td>Wed, 05 May 2021</td> <th>  AIC                </th> <td>-6435.586</td>\n",
       "</tr>\n",
       "<tr>\n",
       "  <th>Time:</th>              <td>00:26:25</td>     <th>  BIC                </th> <td>-6407.374</td>\n",
       "</tr>\n",
       "<tr>\n",
       "  <th>Sample:</th>                <td>2</td>        <th>  HQIC               </th> <td>-6424.757</td>\n",
       "</tr>\n",
       "<tr>\n",
       "  <th></th>                       <td> </td>        <th>                     </th>     <td> </td>    \n",
       "</tr>\n",
       "</table>\n",
       "<table class=\"simpletable\">\n",
       "<tr>\n",
       "           <td></td>              <th>coef</th>     <th>std err</th>      <th>z</th>      <th>P>|z|</th>  <th>[0.025</th>    <th>0.975]</th>  \n",
       "</tr>\n",
       "<tr>\n",
       "  <th>const</th>               <td>-8.185e-08</td> <td> 1.09e-06</td> <td>   -0.075</td> <td> 0.940</td> <td>-2.22e-06</td> <td> 2.06e-06</td>\n",
       "</tr>\n",
       "<tr>\n",
       "  <th>ar.L1.D2.USDC Price</th> <td>   -0.4709</td> <td>    0.035</td> <td>  -13.418</td> <td> 0.000</td> <td>   -0.540</td> <td>   -0.402</td>\n",
       "</tr>\n",
       "<tr>\n",
       "  <th>ar.L2.D2.USDC Price</th> <td>   -0.3407</td> <td>    0.038</td> <td>   -9.065</td> <td> 0.000</td> <td>   -0.414</td> <td>   -0.267</td>\n",
       "</tr>\n",
       "<tr>\n",
       "  <th>ar.L3.D2.USDC Price</th> <td>   -0.1277</td> <td>    0.035</td> <td>   -3.656</td> <td> 0.000</td> <td>   -0.196</td> <td>   -0.059</td>\n",
       "</tr>\n",
       "<tr>\n",
       "  <th>ma.L1.D2.USDC Price</th> <td>   -0.9886</td> <td>    0.025</td> <td>  -39.621</td> <td> 0.000</td> <td>   -1.037</td> <td>   -0.940</td>\n",
       "</tr>\n",
       "</table>\n",
       "<table class=\"simpletable\">\n",
       "<caption>Roots</caption>\n",
       "<tr>\n",
       "    <td></td>   <th>            Real</th>  <th>         Imaginary</th> <th>         Modulus</th>  <th>        Frequency</th>\n",
       "</tr>\n",
       "<tr>\n",
       "  <th>AR.1</th> <td>          -0.1028</td> <td>          -1.7803j</td> <td>           1.7833</td> <td>          -0.2592</td>\n",
       "</tr>\n",
       "<tr>\n",
       "  <th>AR.2</th> <td>          -0.1028</td> <td>          +1.7803j</td> <td>           1.7833</td> <td>           0.2592</td>\n",
       "</tr>\n",
       "<tr>\n",
       "  <th>AR.3</th> <td>          -2.4617</td> <td>          -0.0000j</td> <td>           2.4617</td> <td>          -0.5000</td>\n",
       "</tr>\n",
       "<tr>\n",
       "  <th>MA.1</th> <td>           1.0116</td> <td>          +0.0000j</td> <td>           1.0116</td> <td>           0.0000</td>\n",
       "</tr>\n",
       "</table>"
      ],
      "text/plain": [
       "<class 'statsmodels.iolib.summary.Summary'>\n",
       "\"\"\"\n",
       "                             ARIMA Model Results                              \n",
       "==============================================================================\n",
       "Dep. Variable:          D2.USDC Price   No. Observations:                  814\n",
       "Model:                 ARIMA(3, 2, 1)   Log Likelihood                3223.793\n",
       "Method:                       css-mle   S.D. of innovations              0.005\n",
       "Date:                Wed, 05 May 2021   AIC                          -6435.586\n",
       "Time:                        00:26:25   BIC                          -6407.374\n",
       "Sample:                             2   HQIC                         -6424.757\n",
       "                                                                              \n",
       "=======================================================================================\n",
       "                          coef    std err          z      P>|z|      [0.025      0.975]\n",
       "---------------------------------------------------------------------------------------\n",
       "const               -8.185e-08   1.09e-06     -0.075      0.940   -2.22e-06    2.06e-06\n",
       "ar.L1.D2.USDC Price    -0.4709      0.035    -13.418      0.000      -0.540      -0.402\n",
       "ar.L2.D2.USDC Price    -0.3407      0.038     -9.065      0.000      -0.414      -0.267\n",
       "ar.L3.D2.USDC Price    -0.1277      0.035     -3.656      0.000      -0.196      -0.059\n",
       "ma.L1.D2.USDC Price    -0.9886      0.025    -39.621      0.000      -1.037      -0.940\n",
       "                                    Roots                                    \n",
       "=============================================================================\n",
       "                  Real          Imaginary           Modulus         Frequency\n",
       "-----------------------------------------------------------------------------\n",
       "AR.1           -0.1028           -1.7803j            1.7833           -0.2592\n",
       "AR.2           -0.1028           +1.7803j            1.7833            0.2592\n",
       "AR.3           -2.4617           -0.0000j            2.4617           -0.5000\n",
       "MA.1            1.0116           +0.0000j            1.0116            0.0000\n",
       "-----------------------------------------------------------------------------\n",
       "\"\"\""
      ]
     },
     "execution_count": 12,
     "metadata": {},
     "output_type": "execute_result"
    }
   ],
   "source": [
    "model_arima_fit.summary()"
   ]
  },
  {
   "cell_type": "code",
   "execution_count": 13,
   "metadata": {},
   "outputs": [
    {
     "name": "stdout",
     "output_type": "stream",
     "text": [
      "USDC ARIMA MAPE:  0.0008707216983311843\n"
     ]
    }
   ],
   "source": [
    "arima_mape= get_mape(USDC_test['USDC Price'], arima_pred[0])\n",
    "print('USDC ARIMA MAPE: ', arima_mape)"
   ]
  },
  {
   "cell_type": "code",
   "execution_count": null,
   "metadata": {},
   "outputs": [],
   "source": []
  }
 ],
 "metadata": {
  "kernelspec": {
   "display_name": "Python 3",
   "language": "python",
   "name": "python3"
  },
  "language_info": {
   "codemirror_mode": {
    "name": "ipython",
    "version": 3
   },
   "file_extension": ".py",
   "mimetype": "text/x-python",
   "name": "python",
   "nbconvert_exporter": "python",
   "pygments_lexer": "ipython3",
   "version": "3.7.6"
  }
 },
 "nbformat": 4,
 "nbformat_minor": 4
}
